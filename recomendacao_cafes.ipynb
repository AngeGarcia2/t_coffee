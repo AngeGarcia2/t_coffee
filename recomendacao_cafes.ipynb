{
  "nbformat": 4,
  "nbformat_minor": 0,
  "metadata": {
    "colab": {
      "provenance": []
    },
    "kernelspec": {
      "name": "python3",
      "display_name": "Python 3"
    },
    "language_info": {
      "name": "python"
    }
  },
  "cells": [
    {
      "cell_type": "code",
      "execution_count": null,
      "metadata": {
        "id": "805p_u-q5w17"
      },
      "outputs": [],
      "source": [
        "!pip install googletrans==4.0.0-rc1\n"
      ]
    },
    {
      "cell_type": "code",
      "source": [
        "import pandas as pd\n",
        "import nltk\n",
        "import string\n",
        "from nltk.corpus import stopwords\n",
        "from nltk.stem import WordNetLemmatizer\n",
        "from sklearn.feature_extraction.text import TfidfVectorizer\n",
        "from sklearn.metrics.pairwise import cosine_similarity\n",
        "from googletrans import Translator"
      ],
      "metadata": {
        "id": "5fl_-PAZ66ZO"
      },
      "execution_count": null,
      "outputs": []
    },
    {
      "cell_type": "code",
      "source": [
        "nltk.download('punkt_tab')\n",
        "nltk.download('punkt')\n",
        "nltk.download('stopwords')\n",
        "nltk.download('wordnet')"
      ],
      "metadata": {
        "id": "azbUQIHJ970V"
      },
      "execution_count": null,
      "outputs": []
    },
    {
      "cell_type": "code",
      "source": [
        "from google.colab import files\n",
        "uploaded = files.upload()"
      ],
      "metadata": {
        "id": "kbtDmzkV77tn"
      },
      "execution_count": null,
      "outputs": []
    },
    {
      "cell_type": "code",
      "source": [
        "import io\n",
        "df = pd.read_csv(io.BytesIO(next(iter(uploaded.values()))))"
      ],
      "metadata": {
        "id": "WsuAQXfn8UPY"
      },
      "execution_count": null,
      "outputs": []
    },
    {
      "cell_type": "code",
      "source": [
        "stop_words = set(stopwords.words('english'))\n",
        "lemmatizer = WordNetLemmatizer()\n"
      ],
      "metadata": {
        "id": "4bqLUF2S-ESr"
      },
      "execution_count": null,
      "outputs": []
    },
    {
      "cell_type": "code",
      "source": [
        "def preprocess_text(text):\n",
        "    # Check if the input is a string before processing\n",
        "    if not isinstance(text, str):\n",
        "        return \"\" # Return an empty string or handle non-string data as appropriate\n",
        "\n",
        "    tokens = nltk.word_tokenize(text.lower())\n",
        "    tokens = [t for t in tokens if t not in string.punctuation]\n",
        "    tokens = [lemmatizer.lemmatize(t) for t in tokens if t not in stop_words]\n",
        "    return ' '.join(tokens)\n",
        "\n",
        "# Ensure 'desc_1' column exists before applying the function\n",
        "if 'desc_1' in df.columns:\n",
        "    df['texto_tratado'] = df['desc_1'].apply(preprocess_text)\n",
        "else:\n",
        "    print(\"Error: 'desc_1' column not found in the DataFrame.\")"
      ],
      "metadata": {
        "id": "KNeXO7Kt-IY4"
      },
      "execution_count": null,
      "outputs": []
    },
    {
      "cell_type": "code",
      "source": [
        "vetorizador = TfidfVectorizer()\n",
        "matriz_tfidf = vetorizador.fit_transform(df['texto_tratado'])\n",
        "cosine_sim = cosine_similarity(matriz_tfidf, matriz_tfidf)"
      ],
      "metadata": {
        "id": "NIfulAU9-Zz6"
      },
      "execution_count": null,
      "outputs": []
    },
    {
      "cell_type": "code",
      "source": [
        "def traduzir_texto(texto):\n",
        "    tradutor = Translator()\n",
        "    try:\n",
        "        traducao = tradutor.translate(texto, src='en', dest='pt')\n",
        "        return traducao.text\n",
        "    except:\n",
        "        return texto"
      ],
      "metadata": {
        "id": "T3YNmy0r-c7q"
      },
      "execution_count": null,
      "outputs": []
    },
    {
      "cell_type": "code",
      "source": [
        "def recomendar_cafes(indice_cafe, top_n=5):\n",
        "    similares = list(enumerate(cosine_sim[indice_cafe]))\n",
        "    similares = sorted(similares, key=lambda x: x[1], reverse=True)[1:top_n+1]\n",
        "\n",
        "    print(\"=\"*100)\n",
        "    print(f\"Café de referência:\\n\")\n",
        "    print(f\"[{indice_cafe}] Nome: {df.iloc[indice_cafe]['name']}\")\n",
        "    print(\"Avaliação (em português):\")\n",
        "    print(traduzir_texto(df.iloc[indice_cafe]['desc_1']))\n",
        "    print(\"=\"*100)\n",
        "    print(\"\\nRecomendações similares:\\n\")\n",
        "\n",
        "    for i, score in similares:\n",
        "        nome = df.iloc[i]['name']\n",
        "        desc = df.iloc[i]['desc_1']\n",
        "        traducao = traduzir_texto(desc)\n",
        "        print(f\"[{i}] Nome: {nome}\")\n",
        "        print(f\"Similaridade: {score:.2f}\")\n",
        "        print(f\"Avaliação (em português): {traducao}\")\n",
        "        print(\"—\" * 100)\n"
      ],
      "metadata": {
        "id": "-daz0JrS-hIZ"
      },
      "execution_count": null,
      "outputs": []
    },
    {
      "cell_type": "code",
      "source": [
        "def buscar_por_nome(nome_busca):\n",
        "    resultados = df[df['name'].str.lower().str.contains(nome_busca.lower())]\n",
        "    if resultados.empty:\n",
        "        print(\"Nenhum café encontrado com esse nome.\")\n",
        "        return\n",
        "    print(\"Cafés encontrados:\")\n",
        "    for idx, row in resultados.iterrows():\n",
        "        print(f\"[{idx}] {row['name']}\")\n",
        "\n",
        "    try:\n",
        "        indice_escolhido = int(input(\"Digite o número (índice) do café para ver recomendações: \"))\n",
        "        if indice_escolhido in df.index:\n",
        "            recomendar_cafes(indice_cafe=indice_escolhido, top_n=3)\n",
        "        else:\n",
        "            print(\"Índice inválido.\")\n",
        "    except ValueError:\n",
        "        print(\"Entrada inválida. Digite apenas um número.\")\n",
        "\n",
        "\n",
        "nome_digitado = input(\"Digite o nome (ou parte do nome) do café que deseja buscar: \")\n",
        "buscar_por_nome(nome_digitado)\n"
      ],
      "metadata": {
        "id": "SXoF2gJD-lEL"
      },
      "execution_count": null,
      "outputs": []
    }
  ]
}