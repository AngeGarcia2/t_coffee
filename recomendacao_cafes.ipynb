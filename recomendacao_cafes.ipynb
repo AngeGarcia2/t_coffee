{
  "nbformat": 4,
  "nbformat_minor": 0,
  "metadata": {
    "colab": {
      "provenance": []
    },
    "kernelspec": {
      "name": "python3",
      "display_name": "Python 3"
    },
    "language_info": {
      "name": "python"
    }
  },
  "cells": [
    {
      "cell_type": "code",
      "execution_count": 19,
      "metadata": {
        "colab": {
          "base_uri": "https://localhost:8080/"
        },
        "id": "805p_u-q5w17",
        "outputId": "7a4dabf2-4d2e-4bbe-e5f5-eecf59b52a67"
      },
      "outputs": [
        {
          "output_type": "stream",
          "name": "stdout",
          "text": [
            "Requirement already satisfied: googletrans==4.0.0-rc1 in /usr/local/lib/python3.11/dist-packages (4.0.0rc1)\n",
            "Requirement already satisfied: httpx==0.13.3 in /usr/local/lib/python3.11/dist-packages (from googletrans==4.0.0-rc1) (0.13.3)\n",
            "Requirement already satisfied: certifi in /usr/local/lib/python3.11/dist-packages (from httpx==0.13.3->googletrans==4.0.0-rc1) (2025.4.26)\n",
            "Requirement already satisfied: hstspreload in /usr/local/lib/python3.11/dist-packages (from httpx==0.13.3->googletrans==4.0.0-rc1) (2025.1.1)\n",
            "Requirement already satisfied: sniffio in /usr/local/lib/python3.11/dist-packages (from httpx==0.13.3->googletrans==4.0.0-rc1) (1.3.1)\n",
            "Requirement already satisfied: chardet==3.* in /usr/local/lib/python3.11/dist-packages (from httpx==0.13.3->googletrans==4.0.0-rc1) (3.0.4)\n",
            "Requirement already satisfied: idna==2.* in /usr/local/lib/python3.11/dist-packages (from httpx==0.13.3->googletrans==4.0.0-rc1) (2.10)\n",
            "Requirement already satisfied: rfc3986<2,>=1.3 in /usr/local/lib/python3.11/dist-packages (from httpx==0.13.3->googletrans==4.0.0-rc1) (1.5.0)\n",
            "Requirement already satisfied: httpcore==0.9.* in /usr/local/lib/python3.11/dist-packages (from httpx==0.13.3->googletrans==4.0.0-rc1) (0.9.1)\n",
            "Requirement already satisfied: h11<0.10,>=0.8 in /usr/local/lib/python3.11/dist-packages (from httpcore==0.9.*->httpx==0.13.3->googletrans==4.0.0-rc1) (0.9.0)\n",
            "Requirement already satisfied: h2==3.* in /usr/local/lib/python3.11/dist-packages (from httpcore==0.9.*->httpx==0.13.3->googletrans==4.0.0-rc1) (3.2.0)\n",
            "Requirement already satisfied: hyperframe<6,>=5.2.0 in /usr/local/lib/python3.11/dist-packages (from h2==3.*->httpcore==0.9.*->httpx==0.13.3->googletrans==4.0.0-rc1) (5.2.0)\n",
            "Requirement already satisfied: hpack<4,>=3.0 in /usr/local/lib/python3.11/dist-packages (from h2==3.*->httpcore==0.9.*->httpx==0.13.3->googletrans==4.0.0-rc1) (3.0.0)\n"
          ]
        }
      ],
      "source": [
        "!pip install googletrans==4.0.0-rc1\n"
      ]
    },
    {
      "cell_type": "code",
      "source": [
        "import pandas as pd\n",
        "import nltk\n",
        "import string\n",
        "from nltk.corpus import stopwords\n",
        "from nltk.stem import WordNetLemmatizer\n",
        "from sklearn.feature_extraction.text import TfidfVectorizer\n",
        "from sklearn.metrics.pairwise import cosine_similarity\n",
        "from googletrans import Translator"
      ],
      "metadata": {
        "id": "5fl_-PAZ66ZO"
      },
      "execution_count": 20,
      "outputs": []
    },
    {
      "cell_type": "code",
      "source": [
        "nltk.download('punkt_tab')\n",
        "nltk.download('punkt')\n",
        "nltk.download('stopwords')\n",
        "nltk.download('wordnet')"
      ],
      "metadata": {
        "colab": {
          "base_uri": "https://localhost:8080/"
        },
        "id": "azbUQIHJ970V",
        "outputId": "da956e6b-0fde-4181-ac2f-678805228adc"
      },
      "execution_count": 21,
      "outputs": [
        {
          "output_type": "stream",
          "name": "stderr",
          "text": [
            "[nltk_data] Downloading package punkt_tab to /root/nltk_data...\n",
            "[nltk_data]   Package punkt_tab is already up-to-date!\n",
            "[nltk_data] Downloading package punkt to /root/nltk_data...\n",
            "[nltk_data]   Package punkt is already up-to-date!\n",
            "[nltk_data] Downloading package stopwords to /root/nltk_data...\n",
            "[nltk_data]   Package stopwords is already up-to-date!\n",
            "[nltk_data] Downloading package wordnet to /root/nltk_data...\n",
            "[nltk_data]   Package wordnet is already up-to-date!\n"
          ]
        },
        {
          "output_type": "execute_result",
          "data": {
            "text/plain": [
              "True"
            ]
          },
          "metadata": {},
          "execution_count": 21
        }
      ]
    },
    {
      "cell_type": "code",
      "source": [
        "from google.colab import files\n",
        "uploaded = files.upload()"
      ],
      "metadata": {
        "colab": {
          "base_uri": "https://localhost:8080/",
          "height": 73
        },
        "id": "kbtDmzkV77tn",
        "outputId": "7827ee36-a009-4f80-87c9-f997603dcc92"
      },
      "execution_count": 22,
      "outputs": [
        {
          "output_type": "display_data",
          "data": {
            "text/plain": [
              "<IPython.core.display.HTML object>"
            ],
            "text/html": [
              "\n",
              "     <input type=\"file\" id=\"files-e1b9459d-70ff-421c-af41-3c304f05b0dc\" name=\"files[]\" multiple disabled\n",
              "        style=\"border:none\" />\n",
              "     <output id=\"result-e1b9459d-70ff-421c-af41-3c304f05b0dc\">\n",
              "      Upload widget is only available when the cell has been executed in the\n",
              "      current browser session. Please rerun this cell to enable.\n",
              "      </output>\n",
              "      <script>// Copyright 2017 Google LLC\n",
              "//\n",
              "// Licensed under the Apache License, Version 2.0 (the \"License\");\n",
              "// you may not use this file except in compliance with the License.\n",
              "// You may obtain a copy of the License at\n",
              "//\n",
              "//      http://www.apache.org/licenses/LICENSE-2.0\n",
              "//\n",
              "// Unless required by applicable law or agreed to in writing, software\n",
              "// distributed under the License is distributed on an \"AS IS\" BASIS,\n",
              "// WITHOUT WARRANTIES OR CONDITIONS OF ANY KIND, either express or implied.\n",
              "// See the License for the specific language governing permissions and\n",
              "// limitations under the License.\n",
              "\n",
              "/**\n",
              " * @fileoverview Helpers for google.colab Python module.\n",
              " */\n",
              "(function(scope) {\n",
              "function span(text, styleAttributes = {}) {\n",
              "  const element = document.createElement('span');\n",
              "  element.textContent = text;\n",
              "  for (const key of Object.keys(styleAttributes)) {\n",
              "    element.style[key] = styleAttributes[key];\n",
              "  }\n",
              "  return element;\n",
              "}\n",
              "\n",
              "// Max number of bytes which will be uploaded at a time.\n",
              "const MAX_PAYLOAD_SIZE = 100 * 1024;\n",
              "\n",
              "function _uploadFiles(inputId, outputId) {\n",
              "  const steps = uploadFilesStep(inputId, outputId);\n",
              "  const outputElement = document.getElementById(outputId);\n",
              "  // Cache steps on the outputElement to make it available for the next call\n",
              "  // to uploadFilesContinue from Python.\n",
              "  outputElement.steps = steps;\n",
              "\n",
              "  return _uploadFilesContinue(outputId);\n",
              "}\n",
              "\n",
              "// This is roughly an async generator (not supported in the browser yet),\n",
              "// where there are multiple asynchronous steps and the Python side is going\n",
              "// to poll for completion of each step.\n",
              "// This uses a Promise to block the python side on completion of each step,\n",
              "// then passes the result of the previous step as the input to the next step.\n",
              "function _uploadFilesContinue(outputId) {\n",
              "  const outputElement = document.getElementById(outputId);\n",
              "  const steps = outputElement.steps;\n",
              "\n",
              "  const next = steps.next(outputElement.lastPromiseValue);\n",
              "  return Promise.resolve(next.value.promise).then((value) => {\n",
              "    // Cache the last promise value to make it available to the next\n",
              "    // step of the generator.\n",
              "    outputElement.lastPromiseValue = value;\n",
              "    return next.value.response;\n",
              "  });\n",
              "}\n",
              "\n",
              "/**\n",
              " * Generator function which is called between each async step of the upload\n",
              " * process.\n",
              " * @param {string} inputId Element ID of the input file picker element.\n",
              " * @param {string} outputId Element ID of the output display.\n",
              " * @return {!Iterable<!Object>} Iterable of next steps.\n",
              " */\n",
              "function* uploadFilesStep(inputId, outputId) {\n",
              "  const inputElement = document.getElementById(inputId);\n",
              "  inputElement.disabled = false;\n",
              "\n",
              "  const outputElement = document.getElementById(outputId);\n",
              "  outputElement.innerHTML = '';\n",
              "\n",
              "  const pickedPromise = new Promise((resolve) => {\n",
              "    inputElement.addEventListener('change', (e) => {\n",
              "      resolve(e.target.files);\n",
              "    });\n",
              "  });\n",
              "\n",
              "  const cancel = document.createElement('button');\n",
              "  inputElement.parentElement.appendChild(cancel);\n",
              "  cancel.textContent = 'Cancel upload';\n",
              "  const cancelPromise = new Promise((resolve) => {\n",
              "    cancel.onclick = () => {\n",
              "      resolve(null);\n",
              "    };\n",
              "  });\n",
              "\n",
              "  // Wait for the user to pick the files.\n",
              "  const files = yield {\n",
              "    promise: Promise.race([pickedPromise, cancelPromise]),\n",
              "    response: {\n",
              "      action: 'starting',\n",
              "    }\n",
              "  };\n",
              "\n",
              "  cancel.remove();\n",
              "\n",
              "  // Disable the input element since further picks are not allowed.\n",
              "  inputElement.disabled = true;\n",
              "\n",
              "  if (!files) {\n",
              "    return {\n",
              "      response: {\n",
              "        action: 'complete',\n",
              "      }\n",
              "    };\n",
              "  }\n",
              "\n",
              "  for (const file of files) {\n",
              "    const li = document.createElement('li');\n",
              "    li.append(span(file.name, {fontWeight: 'bold'}));\n",
              "    li.append(span(\n",
              "        `(${file.type || 'n/a'}) - ${file.size} bytes, ` +\n",
              "        `last modified: ${\n",
              "            file.lastModifiedDate ? file.lastModifiedDate.toLocaleDateString() :\n",
              "                                    'n/a'} - `));\n",
              "    const percent = span('0% done');\n",
              "    li.appendChild(percent);\n",
              "\n",
              "    outputElement.appendChild(li);\n",
              "\n",
              "    const fileDataPromise = new Promise((resolve) => {\n",
              "      const reader = new FileReader();\n",
              "      reader.onload = (e) => {\n",
              "        resolve(e.target.result);\n",
              "      };\n",
              "      reader.readAsArrayBuffer(file);\n",
              "    });\n",
              "    // Wait for the data to be ready.\n",
              "    let fileData = yield {\n",
              "      promise: fileDataPromise,\n",
              "      response: {\n",
              "        action: 'continue',\n",
              "      }\n",
              "    };\n",
              "\n",
              "    // Use a chunked sending to avoid message size limits. See b/62115660.\n",
              "    let position = 0;\n",
              "    do {\n",
              "      const length = Math.min(fileData.byteLength - position, MAX_PAYLOAD_SIZE);\n",
              "      const chunk = new Uint8Array(fileData, position, length);\n",
              "      position += length;\n",
              "\n",
              "      const base64 = btoa(String.fromCharCode.apply(null, chunk));\n",
              "      yield {\n",
              "        response: {\n",
              "          action: 'append',\n",
              "          file: file.name,\n",
              "          data: base64,\n",
              "        },\n",
              "      };\n",
              "\n",
              "      let percentDone = fileData.byteLength === 0 ?\n",
              "          100 :\n",
              "          Math.round((position / fileData.byteLength) * 100);\n",
              "      percent.textContent = `${percentDone}% done`;\n",
              "\n",
              "    } while (position < fileData.byteLength);\n",
              "  }\n",
              "\n",
              "  // All done.\n",
              "  yield {\n",
              "    response: {\n",
              "      action: 'complete',\n",
              "    }\n",
              "  };\n",
              "}\n",
              "\n",
              "scope.google = scope.google || {};\n",
              "scope.google.colab = scope.google.colab || {};\n",
              "scope.google.colab._files = {\n",
              "  _uploadFiles,\n",
              "  _uploadFilesContinue,\n",
              "};\n",
              "})(self);\n",
              "</script> "
            ]
          },
          "metadata": {}
        },
        {
          "output_type": "stream",
          "name": "stdout",
          "text": [
            "Saving coffee_analysis.csv to coffee_analysis (1).csv\n"
          ]
        }
      ]
    },
    {
      "cell_type": "code",
      "source": [
        "import io\n",
        "df = pd.read_csv(io.BytesIO(next(iter(uploaded.values()))))"
      ],
      "metadata": {
        "id": "WsuAQXfn8UPY"
      },
      "execution_count": 23,
      "outputs": []
    },
    {
      "cell_type": "code",
      "source": [
        "stop_words = set(stopwords.words('english'))\n",
        "lemmatizer = WordNetLemmatizer()\n"
      ],
      "metadata": {
        "id": "4bqLUF2S-ESr"
      },
      "execution_count": 24,
      "outputs": []
    },
    {
      "cell_type": "code",
      "source": [
        "def preprocess_text(text):\n",
        "    # Check if the input is a string before processing\n",
        "    if not isinstance(text, str):\n",
        "        return \"\" # Return an empty string or handle non-string data as appropriate\n",
        "\n",
        "    tokens = nltk.word_tokenize(text.lower())\n",
        "    tokens = [t for t in tokens if t not in string.punctuation]\n",
        "    tokens = [lemmatizer.lemmatize(t) for t in tokens if t not in stop_words]\n",
        "    return ' '.join(tokens)\n",
        "\n",
        "# Ensure 'desc_1' column exists before applying the function\n",
        "if 'desc_1' in df.columns:\n",
        "    df['texto_tratado'] = df['desc_1'].apply(preprocess_text)\n",
        "else:\n",
        "    print(\"Error: 'desc_1' column not found in the DataFrame.\")"
      ],
      "metadata": {
        "id": "KNeXO7Kt-IY4"
      },
      "execution_count": 25,
      "outputs": []
    },
    {
      "cell_type": "code",
      "source": [
        "vetorizador = TfidfVectorizer()\n",
        "matriz_tfidf = vetorizador.fit_transform(df['texto_tratado'])\n",
        "cosine_sim = cosine_similarity(matriz_tfidf, matriz_tfidf)"
      ],
      "metadata": {
        "id": "NIfulAU9-Zz6"
      },
      "execution_count": 26,
      "outputs": []
    },
    {
      "cell_type": "code",
      "source": [
        "def traduzir_texto(texto):\n",
        "    tradutor = Translator()\n",
        "    try:\n",
        "        traducao = tradutor.translate(texto, src='en', dest='pt')\n",
        "        return traducao.text\n",
        "    except:\n",
        "        return texto"
      ],
      "metadata": {
        "id": "T3YNmy0r-c7q"
      },
      "execution_count": 27,
      "outputs": []
    },
    {
      "cell_type": "code",
      "source": [
        "def recomendar_cafes(indice_cafe, top_n=5):\n",
        "    similares = list(enumerate(cosine_sim[indice_cafe]))\n",
        "    similares = sorted(similares, key=lambda x: x[1], reverse=True)[1:top_n+1]\n",
        "\n",
        "    print(\"=\"*100)\n",
        "    print(f\"Café de referência:\\n\")\n",
        "    print(f\"[{indice_cafe}] Nome: {df.iloc[indice_cafe]['name']}\")\n",
        "    print(\"Avaliação (em português):\")\n",
        "    print(traduzir_texto(df.iloc[indice_cafe]['desc_1']))\n",
        "    print(\"=\"*100)\n",
        "    print(\"\\nRecomendações similares:\\n\")\n",
        "\n",
        "    for i, score in similares:\n",
        "        nome = df.iloc[i]['name']\n",
        "        desc = df.iloc[i]['desc_1']\n",
        "        traducao = traduzir_texto(desc)\n",
        "        print(f\"[{i}] Nome: {nome}\")\n",
        "        print(f\"Similaridade: {score:.2f}\")\n",
        "        print(f\"Avaliação (em português): {traducao}\")\n",
        "        print(\"—\" * 100)\n"
      ],
      "metadata": {
        "id": "-daz0JrS-hIZ"
      },
      "execution_count": 28,
      "outputs": []
    },
    {
      "cell_type": "code",
      "source": [
        "def buscar_por_nome(nome_busca):\n",
        "    resultados = df[df['name'].str.lower().str.contains(nome_busca.lower())]\n",
        "    if resultados.empty:\n",
        "        print(\"Nenhum café encontrado com esse nome.\")\n",
        "        return\n",
        "    print(\"Cafés encontrados:\")\n",
        "    for idx, row in resultados.iterrows():\n",
        "        print(f\"[{idx}] {row['name']}\")\n",
        "\n",
        "    try:\n",
        "        indice_escolhido = int(input(\"Digite o número (índice) do café para ver recomendações: \"))\n",
        "        if indice_escolhido in df.index:\n",
        "            recomendar_cafes(indice_cafe=indice_escolhido, top_n=3)\n",
        "        else:\n",
        "            print(\"Índice inválido.\")\n",
        "    except ValueError:\n",
        "        print(\"Entrada inválida. Digite apenas um número.\")\n",
        "\n",
        "\n",
        "nome_digitado = input(\"Digite o nome (ou parte do nome) do café que deseja buscar: \")\n",
        "buscar_por_nome(nome_digitado)\n"
      ],
      "metadata": {
        "colab": {
          "base_uri": "https://localhost:8080/"
        },
        "id": "SXoF2gJD-lEL",
        "outputId": "79443c4a-a065-4636-bfd0-33db754e2729"
      },
      "execution_count": 29,
      "outputs": [
        {
          "output_type": "stream",
          "name": "stdout",
          "text": [
            "Digite o nome (ou parte do nome) do café que deseja buscar: catuai\n",
            "Cafés encontrados:\n",
            "[595] Panama Elida Natural Catuai\n",
            "[1123] Honduras Catuai/Bourbon\n",
            "[1426] Guatemala Finca El Principito Yellow Catuai\n",
            "[1516] Elida Estate Dragonfly Catuai Lot 13\n",
            "[1519] Elida Estate ASD Natural Catuai 15\n",
            "Digite o número (índice) do café para ver recomendações: 1123\n",
            "====================================================================================================\n",
            "Café de referência:\n",
            "\n",
            "[1123] Nome: Honduras Catuai/Bourbon\n",
            "Avaliação (em português):\n",
            "Crisply Sweet, em tons de nozes.Nutella, ameixa, cedro, raspas de laranja, um toque de lírio em aroma e copo.Estrutura doce com acidez suave e redonda;Fela da boca aveludada e suave.Acabamento em tons de floral e noz.\n",
            "====================================================================================================\n",
            "\n",
            "Recomendações similares:\n",
            "\n",
            "[2058] Nome: Esperanza Villa Sarchi\n",
            "Similaridade: 0.69\n",
            "Avaliação (em português): Crisply Sweet, em tons de nozes.Nutella, pêssego, raspas de limão, cedro, magnólia em aroma e copo.Estrutura doce com acidez suave e redonda;Fela da boca aveludada e suave.Acabamento suavemente seco e com tons de nozes muito doces.\n",
            "————————————————————————————————————————————————————————————————————————————————————————————————————\n",
            "[1624] Nome: Costa Rica Central Valley Brandy Ball\n",
            "Similaridade: 0.55\n",
            "Avaliação (em português): Ricamente doce, em tons florais.Flores de freesia, raspas de laranja, avelã, caramelo, cedro em aroma e copo.Estrutura doce com acidez suave e redonda;Fela na boca completa e suave.Acabamento nítido em tons de floral e noz.\n",
            "————————————————————————————————————————————————————————————————————————————————————————————————————\n",
            "[1655] Nome: Cocaine for Coffee\n",
            "Similaridade: 0.53\n",
            "Avaliação (em português): Ricamente em tons de noz.Manteiga de caju, chocolate para assar, raspas de laranja, pêra, abeto fresco em aroma e copo.Estrutura doce com acidez suave;Sexe na boca aveludada.Acabamento em tons de nozes suportados por notas de raspas de laranja.\n",
            "————————————————————————————————————————————————————————————————————————————————————————————————————\n"
          ]
        }
      ]
    }
  ]
}